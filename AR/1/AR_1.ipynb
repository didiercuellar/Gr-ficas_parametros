{
 "cells": [
  {
   "cell_type": "code",
   "execution_count": 1,
   "metadata": {},
   "outputs": [],
   "source": [
    "import pandas as pd \n",
    "import numpy as np \n",
    "import scipy.stats as st \n",
    "from scipy.interpolate import interp1d\n",
    "import matplotlib.pyplot as plt \n",
    "import math\n",
    "import statistics as stats\n"
   ]
  },
  {
   "cell_type": "code",
   "execution_count": 3,
   "metadata": {},
   "outputs": [
    {
     "name": "stdout",
     "output_type": "stream",
     "text": [
      "0.40483859217506146\n",
      "           A         B     C\n",
      "0   0.411784  1.138076  8.92\n",
      "1   1.076529  2.549643  8.96\n",
      "2   0.344893  1.805657  8.79\n",
      "3   0.290591  1.104069  8.12\n",
      "4   0.319685  1.767705  8.81\n",
      "5   0.502949  1.263781  9.04\n",
      "6   1.195958  2.545575  8.43\n",
      "7   0.763754  1.305997  8.36\n",
      "8   1.244103  2.439712  7.68\n",
      "9   1.193816  2.671509  7.89\n",
      "10  0.570943  2.029017  8.58\n",
      "11  0.153155  0.952812  8.44\n",
      "12  0.394001  1.934140  7.98\n",
      "13  0.740282  2.437442  9.04\n",
      "14  0.649247  2.175012  9.39\n",
      "15  0.881436  2.327185  8.36\n",
      "16  0.383543  1.991499  8.62\n",
      "17  0.877571  2.202451  8.07\n",
      "18  0.366256  1.130894  8.53\n",
      "19  0.411800  1.814461  8.26\n",
      "20  0.543287  2.187954  8.36\n",
      "21  0.478902  1.844556  9.17\n",
      "22  1.065126  2.271478  8.54\n",
      "23  0.703083  2.256125  8.36\n",
      "24  0.990205  2.255233  7.74\n",
      "25  1.121248  2.478571  8.18\n",
      "26  0.792190  2.146730  8.32\n",
      "27  1.105838  2.266705  7.84\n",
      "28  0.468388  1.233203  8.67\n",
      "29  0.417968  1.886522  8.37\n",
      "30  0.768165  2.062233  8.28\n",
      "31  0.403970  1.847505  8.48\n",
      "32  0.886289  2.251101  8.20\n",
      "33  0.460897  1.995998  8.39\n",
      "34  0.666228  1.372721  8.14\n",
      "35  0.594062  1.102991  7.99\n"
     ]
    }
   ],
   "source": [
    "data=pd.read_csv('AR_1_U.csv',header=0,)\n",
    "data = data.dropna(how='any')#quita los valores nan del documento\n",
    "y=data.iloc[:,0]\n",
    "w=data.iloc[:,1]\n",
    "x=data.iloc[:,2]\n",
    "\n",
    "print(stats.stdev(x))\n",
    "print(data)"
   ]
  },
  {
   "cell_type": "code",
   "execution_count": 4,
   "metadata": {},
   "outputs": [
    {
     "data": {
      "text/plain": [
       "<function matplotlib.pyplot.show(close=None, block=None)>"
      ]
     },
     "execution_count": 4,
     "metadata": {},
     "output_type": "execute_result"
    },
    {
     "data": {
      "image/png": "[encoded data removed]",
      "text/plain": [
       "<Figure size 432x288 with 1 Axes>"
      ]
     },
     "metadata": {
      "needs_background": "light"
     },
     "output_type": "display_data"
    }
   ],
   "source": [
    "yerror = w\n",
    "xerror = 0.40483859217506146\n",
    "plt.plot(x,y,'ro')\n",
    "plt.errorbar(x,y,yerr=yerror, fmt = ' ' , ecolor='black')\n",
    "plt.errorbar(x,y,xerr=xerror, fmt = ' ' , ecolor='blue')\n",
    "plt.ylabel('AR_1_U')\n",
    "plt.xlabel('$Hβ [log(M BH,vir /M_\\odot)]$')\n",
    "plt.title(\"Masa_virial_U\")\n",
    "#plt.xscale('log')\n",
    "#plt.yscale('log')\n",
    "plt.grid()\n",
    "plt.savefig(\"masa del virial _AR_1_U_error.pdf\")\n",
    "plt.show"
   ]
  },
  {
   "cell_type": "code",
   "execution_count": 5,
   "metadata": {},
   "outputs": [
    {
     "name": "stdout",
     "output_type": "stream",
     "text": [
      "0.40483859217506146\n",
      "1.098685597132046\n",
      "           A     B\n",
      "0   1.455610  8.92\n",
      "1   0.943962  8.96\n",
      "2   0.443118  8.79\n",
      "3   2.370353  8.12\n",
      "4   0.432795  8.81\n",
      "5   1.423855  9.04\n",
      "6   0.493137  8.43\n",
      "7   2.175539  8.36\n",
      "8   2.274134  7.68\n",
      "9   1.202399  7.89\n",
      "10  1.161422  8.58\n",
      "11  0.632150  8.44\n",
      "12  0.627928  7.98\n",
      "13  1.210559  9.04\n",
      "14  1.660327  9.39\n",
      "15  1.611070  8.36\n",
      "16  0.181643  8.62\n",
      "17  1.204787  8.07\n",
      "18  0.450552  8.53\n",
      "19  0.682330  8.26\n",
      "20  0.554829  8.36\n",
      "21  1.127944  9.17\n",
      "22  1.683757  8.54\n",
      "23  6.346533  8.36\n",
      "24  0.596994  7.74\n",
      "25  3.018839  8.18\n",
      "26  1.582565  8.32\n",
      "27  1.283792  7.84\n",
      "28  0.331010  8.67\n",
      "29  0.697795  8.37\n",
      "30  1.954652  8.28\n",
      "31  1.416915  8.48\n",
      "32  0.827122  8.20\n",
      "33  0.721772  8.39\n",
      "34  0.833614  8.14\n",
      "35  0.141261  7.99\n"
     ]
    }
   ],
   "source": [
    "data=pd.read_csv('AR_1_G.csv',header=0,)\n",
    "data = data.dropna(how='any')#quita los valores nan del documento\n",
    "y=data.iloc[:,0]\n",
    "\n",
    "x=data.iloc[:,1]\n",
    "\n",
    "print(stats.stdev(x))\n",
    "print(stats.stdev(y))\n",
    "\n",
    "print(data)"
   ]
  },
  {
   "cell_type": "code",
   "execution_count": 6,
   "metadata": {},
   "outputs": [
    {
     "data": {
      "text/plain": [
       "<function matplotlib.pyplot.show(close=None, block=None)>"
      ]
     },
     "execution_count": 6,
     "metadata": {},
     "output_type": "execute_result"
    },
    {
     "data": {
      "image/png": "[encoded data removed]",
      "text/plain": [
       "<Figure size 432x288 with 1 Axes>"
      ]
     },
     "metadata": {
      "needs_background": "light"
     },
     "output_type": "display_data"
    }
   ],
   "source": [
    "yerror = 1.098685597132046\n",
    "xerror = 0.40483859217506146\n",
    "plt.plot(x,y,'ro')\n",
    "plt.errorbar(x,y,yerr=yerror, fmt = ' ' , ecolor='black')\n",
    "plt.errorbar(x,y,xerr=xerror, fmt = ' ' , ecolor='blue')\n",
    "plt.ylabel('AR_1_G')\n",
    "plt.xlabel('$Hβ [log(M BH,vir /M_\\odot)]$')\n",
    "plt.title(\"Masa_virial_G\")\n",
    "#plt.xscale('log')\n",
    "#plt.yscale('log')\n",
    "plt.grid()\n",
    "plt.savefig(\"masa del virial _AR_1_G_error.pdf\")\n",
    "plt.show"
   ]
  },
  {
   "cell_type": "code",
   "execution_count": 7,
   "metadata": {},
   "outputs": [
    {
     "name": "stdout",
     "output_type": "stream",
     "text": [
      "0.5212454770170307\n",
      "0.5671026642766979\n",
      "           A         B     C\n",
      "0   0.915703  2.492778  8.92\n",
      "1   1.132959  2.685760  8.96\n",
      "2   0.379168  1.790669  8.79\n",
      "3   0.415966  1.195463  8.12\n",
      "4   0.449154  2.176936  8.81\n",
      "5   0.415651  1.024174  9.04\n",
      "6   1.061236  2.413663  8.43\n",
      "7   0.474634  1.158187  8.36\n",
      "8   0.517322  1.663400  7.68\n",
      "9   1.148267  1.839163  7.89\n",
      "10  1.606809  2.142861  8.58\n",
      "11  0.236182  1.019044  8.44\n",
      "12  0.532512  2.433069  7.98\n",
      "13  0.647999  2.281443  9.04\n",
      "14  0.602236  1.909613  9.39\n",
      "15  1.149111  2.394414  8.36\n",
      "16  1.774575  2.647866  8.62\n",
      "17  0.689235  2.280064  8.07\n",
      "18  0.555093  2.145922  8.53\n",
      "19  0.269174  1.116349  8.26\n",
      "20  2.424977  1.748096  8.36\n",
      "21  0.303760  1.728368  9.17\n",
      "22  0.577994  1.192012  8.54\n",
      "23  0.959373  2.392288  8.36\n",
      "24  1.444765  2.553434  7.74\n",
      "25  0.609094  2.036819  8.18\n",
      "26  0.485847  1.160667  8.32\n",
      "27  2.696403  1.693393  7.84\n",
      "28  0.528185  2.095930  8.67\n",
      "29  0.918374  2.271917  8.37\n",
      "30  1.107811  2.419192  8.28\n",
      "31  0.795647  2.210590  8.48\n",
      "32  0.535803  2.191962  8.20\n",
      "33  0.517212  2.090665  8.39\n",
      "34  0.319394  1.017325  8.14\n",
      "35  0.791040  2.371475  7.99\n"
     ]
    }
   ],
   "source": [
    "data=pd.read_csv('AR_1_R.csv',header=0,)\n",
    "data = data.dropna(how='any')#quita los valores nan del documento\n",
    "y=data.iloc[:,0]\n",
    "\n",
    "x=data.iloc[:,1]\n",
    "\n",
    "print(stats.stdev(x))\n",
    "print(stats.stdev(y))\n",
    "print(data)"
   ]
  },
  {
   "cell_type": "code",
   "execution_count": 8,
   "metadata": {},
   "outputs": [
    {
     "data": {
      "text/plain": [
       "<function matplotlib.pyplot.show(close=None, block=None)>"
      ]
     },
     "execution_count": 8,
     "metadata": {},
     "output_type": "execute_result"
    },
    {
     "data": {
      "image/png": "[encoded data removed]",
      "text/plain": [
       "<Figure size 432x288 with 1 Axes>"
      ]
     },
     "metadata": {
      "needs_background": "light"
     },
     "output_type": "display_data"
    }
   ],
   "source": [
    "yerror = 0.5671026642766979\n",
    "xerror = 0.5212454770170307\n",
    "plt.plot(x,y,'ro')\n",
    "plt.errorbar(x,y,yerr=yerror, fmt = ' ' , ecolor='black')\n",
    "plt.errorbar(x,y,xerr=xerror, fmt = ' ' , ecolor='blue')\n",
    "plt.ylabel('AR_1_R')\n",
    "plt.xlabel('$Hβ [log(M BH,vir /M_\\odot)]$')\n",
    "plt.title(\"Masa_virial_R\")\n",
    "#plt.xscale('log')\n",
    "#plt.yscale('log')\n",
    "plt.grid()\n",
    "plt.savefig(\"masa del virial _AR_1_R_error.pdf\")\n",
    "plt.show"
   ]
  },
  {
   "cell_type": "code",
   "execution_count": 9,
   "metadata": {},
   "outputs": [
    {
     "name": "stdout",
     "output_type": "stream",
     "text": [
      "0.4966807895694884\n",
      "0.6717682543452637\n",
      "           A         B     C\n",
      "0   1.471469  2.101748  8.92\n",
      "1   1.020110  2.439465  8.96\n",
      "2   0.537924  1.960089  8.79\n",
      "3   0.343263  1.072385  8.12\n",
      "4   0.115155  1.468025  8.81\n",
      "5   0.397382  1.100232  9.04\n",
      "6   0.947052  2.251859  8.43\n",
      "7   0.663435  1.263945  8.36\n",
      "8   1.640888  2.114657  7.68\n",
      "9   1.143993  2.531450  7.89\n",
      "10  3.149174  1.899663  8.58\n",
      "11  0.957337  2.295542  8.44\n",
      "12  0.427887  1.961704  7.98\n",
      "13  1.227743  2.353830  9.04\n",
      "14  2.408718  2.566071  9.39\n",
      "15  1.387143  2.500038  8.36\n",
      "16  1.461199  2.048195  8.62\n",
      "17  0.592199  2.269263  8.07\n",
      "18  0.660132  2.250493  8.53\n",
      "19  0.456238  1.158053  8.26\n",
      "20  0.808038  2.097221  8.36\n",
      "21  0.202855  1.792334  9.17\n",
      "22  0.273175  1.185579  8.54\n",
      "23  0.644541  1.889720  8.36\n",
      "24  0.809501  2.332752  7.74\n",
      "25  0.082994  0.869399  8.18\n",
      "26  0.967876  2.243981  8.32\n",
      "27  2.190222  2.102792  7.84\n",
      "28  0.903153  2.432153  8.67\n",
      "29  1.256574  2.521347  8.37\n",
      "30  0.115222  1.891877  8.28\n",
      "31  0.627194  2.276224  8.48\n",
      "32  0.725041  2.341531  8.20\n",
      "33  0.508202  2.124880  8.39\n",
      "34  0.137646  0.999784  8.14\n",
      "35  1.064261  2.307999  7.99\n"
     ]
    }
   ],
   "source": [
    "data=pd.read_csv('AR_1_I.csv',header=0,)\n",
    "data = data.dropna(how='any')#quita los valores nan del documento\n",
    "y=data.iloc[:,0]\n",
    "x=data.iloc[:,1]\n",
    "\n",
    "print(stats.stdev(x))\n",
    "print(stats.stdev(y))\n",
    "\n",
    "print(data)"
   ]
  },
  {
   "cell_type": "code",
   "execution_count": 10,
   "metadata": {},
   "outputs": [
    {
     "data": {
      "text/plain": [
       "<function matplotlib.pyplot.show(close=None, block=None)>"
      ]
     },
     "execution_count": 10,
     "metadata": {},
     "output_type": "execute_result"
    },
    {
     "data": {
      "image/png": "[encoded data removed]",
      "text/plain": [
       "<Figure size 432x288 with 1 Axes>"
      ]
     },
     "metadata": {
      "needs_background": "light"
     },
     "output_type": "display_data"
    }
   ],
   "source": [
    "yerror = 0.6717682543452637\n",
    "xerror = 0.4966807895694884\n",
    "plt.plot(x,y,'ro')\n",
    "plt.errorbar(x,y,yerr=yerror, fmt = ' ' , ecolor='black')\n",
    "plt.errorbar(x,y,xerr=xerror, fmt = ' ' , ecolor='blue')\n",
    "plt.ylabel('AR_1_I')\n",
    "plt.xlabel('$Hβ [log(M BH,vir /M_\\odot)]$')\n",
    "plt.title(\"Masa_virial_I\")\n",
    "#plt.xscale('log')\n",
    "#plt.yscale('log')\n",
    "plt.grid()\n",
    "plt.savefig(\"masa del virial _AR_1_I_error.pdf\")\n",
    "plt.show"
   ]
  },
  {
   "cell_type": "code",
   "execution_count": 11,
   "metadata": {},
   "outputs": [
    {
     "name": "stdout",
     "output_type": "stream",
     "text": [
      "0.4209017073297935\n",
      "0.5065808740058443\n",
      "           A         B     C\n",
      "0   0.534101  2.207213  8.92\n",
      "1   0.544277  2.120358  8.96\n",
      "2   0.497133  1.987317  8.79\n",
      "3   0.416236  1.136550  8.12\n",
      "4   0.731127  2.323023  8.81\n",
      "5   0.464140  1.168644  9.04\n",
      "6   0.716237  2.294206  8.43\n",
      "7   0.489555  1.127366  8.36\n",
      "8   1.204107  2.277670  7.68\n",
      "9   1.261958  1.994870  7.89\n",
      "10  0.690545  2.122802  8.58\n",
      "11  0.709414  2.291389  8.44\n",
      "12  0.551239  2.308702  7.98\n",
      "13  0.419983  1.166339  9.04\n",
      "14  0.620472  2.297065  9.39\n",
      "15  0.502938  2.062734  8.36\n",
      "16  0.820645  2.319309  8.62\n",
      "17  0.531518  2.160119  8.07\n",
      "18  0.545861  2.123537  8.53\n",
      "19  0.685899  1.391431  8.26\n",
      "20  3.380354  2.033252  8.36\n",
      "21  0.531992  2.135335  9.17\n",
      "22  0.420955  1.880708  8.54\n",
      "23  0.511643  2.187911  8.36\n",
      "24  0.749859  2.483173  7.74\n",
      "25  0.558485  2.085645  8.18\n",
      "26  0.791105  1.979095  8.32\n",
      "27  0.513791  2.090643  7.84\n",
      "28  1.015910  2.588534  8.67\n",
      "29  0.794101  2.267907  8.37\n",
      "30  0.526745  2.191995  8.28\n",
      "31  0.607104  2.141723  8.48\n",
      "32  0.744103  2.135727  8.20\n",
      "33  0.261177  1.230845  8.39\n",
      "34  0.641921  2.165091  8.14\n",
      "35  0.266303  1.131368  7.99\n"
     ]
    }
   ],
   "source": [
    "data=pd.read_csv('AR_1_Z.csv',header=0,)\n",
    "data = data.dropna(how='any')#quita los valores nan del documento\n",
    "y=data.iloc[:,0]\n",
    "\n",
    "x=data.iloc[:,1]\n",
    "\n",
    "print(stats.stdev(x))\n",
    "print(stats.stdev(y))\n",
    "print(data)"
   ]
  },
  {
   "cell_type": "code",
   "execution_count": 12,
   "metadata": {},
   "outputs": [
    {
     "data": {
      "text/plain": [
       "<function matplotlib.pyplot.show(close=None, block=None)>"
      ]
     },
     "execution_count": 12,
     "metadata": {},
     "output_type": "execute_result"
    },
    {
     "data": {
      "image/png": "[encoded data removed]",
      "text/plain": [
       "<Figure size 432x288 with 1 Axes>"
      ]
     },
     "metadata": {
      "needs_background": "light"
     },
     "output_type": "display_data"
    }
   ],
   "source": [
    "yerror = 0.5065808740058443\n",
    "xerror = 0.4209017073297935\n",
    "plt.plot(x,y,'ro')\n",
    "plt.errorbar(x,y,yerr=yerror, fmt = ' ' , ecolor='black')\n",
    "plt.errorbar(x,y,xerr=xerror, fmt = ' ' , ecolor='blue')\n",
    "plt.ylabel('AR_1_Z')\n",
    "plt.xlabel('$Hβ [log(M BH,vir /M_\\odot)]$')\n",
    "plt.title(\"Masa_virial_Z\")\n",
    "#plt.xscale('log')\n",
    "#plt.yscale('log')\n",
    "plt.grid()\n",
    "plt.savefig(\"masa del virial _AR_1_Z_error.pdf\")\n",
    "plt.show"
   ]
  }
 ],
 "metadata": {
  "kernelspec": {
   "display_name": "Python 3",
   "language": "python",
   "name": "python3"
  },
  "language_info": {
   "codemirror_mode": {
    "name": "ipython",
    "version": 3
   },
   "file_extension": ".py",
   "mimetype": "text/x-python",
   "name": "python",
   "nbconvert_exporter": "python",
   "pygments_lexer": "ipython3",
   "version": "3.7.6"
  }
 },
 "nbformat": 4,
 "nbformat_minor": 4
}
