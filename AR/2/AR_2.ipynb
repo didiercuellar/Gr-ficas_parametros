{
 "cells": [
  {
   "cell_type": "code",
   "execution_count": 1,
   "metadata": {},
   "outputs": [],
   "source": [
    "import pandas as pd \n",
    "import numpy as np \n",
    "import scipy.stats as st \n",
    "from scipy.interpolate import interp1d\n",
    "import matplotlib.pyplot as plt \n",
    "import math\n",
    "import statistics as stats\n"
   ]
  },
  {
   "cell_type": "code",
   "execution_count": 2,
   "metadata": {},
   "outputs": [
    {
     "name": "stdout",
     "output_type": "stream",
     "text": [
      "0.40483859217506146\n",
      "0.8732862766443228\n",
      "           A     B\n",
      "0   0.240217  8.92\n",
      "1   2.175642  8.96\n",
      "2   0.055222  8.79\n",
      "3   0.060443  8.12\n",
      "4   0.070739  8.81\n",
      "5   0.205223  9.04\n",
      "6   1.023104  8.43\n",
      "7   0.649839  8.36\n",
      "8   1.265851  7.68\n",
      "9   0.636987  7.89\n",
      "10  0.225057  8.58\n",
      "11  0.044262  8.44\n",
      "12  0.232791  7.98\n",
      "13  4.853634  9.04\n",
      "14  0.288246  9.39\n",
      "15  1.552347  8.36\n",
      "16  0.523928  8.62\n",
      "17  0.863102  8.07\n",
      "18  0.133561  8.53\n",
      "19  0.070883  8.26\n",
      "20  0.335052  8.36\n",
      "21  0.080812  9.17\n",
      "22  0.790584  8.54\n",
      "23  0.504932  8.36\n",
      "24  1.294053  7.74\n",
      "25  1.011755  8.18\n",
      "26  0.354924  8.32\n",
      "27  0.212887  7.84\n",
      "28  1.118562  8.67\n",
      "29  0.269054  8.37\n",
      "30  0.129244  8.28\n",
      "31  0.239073  8.48\n",
      "32  0.082200  8.20\n",
      "33  0.665045  8.39\n",
      "34  0.507966  8.14\n",
      "35  0.563997  7.99\n"
     ]
    }
   ],
   "source": [
    "data=pd.read_csv('AR_2_U.csv',header=0,)\n",
    "data = data.dropna(how='any')#quita los valores nan del documento\n",
    "y=data.iloc[:,0]\n",
    "\n",
    "x=data.iloc[:,1]\n",
    "\n",
    "print(stats.stdev(x))\n",
    "print(stats.stdev(y))\n",
    "print(data)"
   ]
  },
  {
   "cell_type": "code",
   "execution_count": 3,
   "metadata": {},
   "outputs": [
    {
     "data": {
      "text/plain": [
       "<function matplotlib.pyplot.show(close=None, block=None)>"
      ]
     },
     "execution_count": 3,
     "metadata": {},
     "output_type": "execute_result"
    },
    {
     "data": {
      "image/png": "[encoded data removed]",
      "text/plain": [
       "<Figure size 432x288 with 1 Axes>"
      ]
     },
     "metadata": {
      "needs_background": "light"
     },
     "output_type": "display_data"
    }
   ],
   "source": [
    "yerror = 0.8732862766443228\n",
    "xerror = 0.40483859217506146\n",
    "plt.plot(x,y,'ro')\n",
    "plt.errorbar(x,y,yerr=yerror, fmt = ' ' , ecolor='black')\n",
    "plt.errorbar(x,y,xerr=xerror, fmt = ' ' , ecolor='blue')\n",
    "plt.ylabel('AR_2_U')\n",
    "plt.xlabel('$Hβ [log(M BH,vir /M_\\odot)]$')\n",
    "plt.title(\"Masa_virial_U\")\n",
    "#plt.xscale('log')\n",
    "#plt.yscale('log')\n",
    "plt.grid()\n",
    "plt.savefig(\"masa del virial _AR_2_U_error.pdf\")\n",
    "plt.show"
   ]
  },
  {
   "cell_type": "code",
   "execution_count": 4,
   "metadata": {},
   "outputs": [
    {
     "name": "stdout",
     "output_type": "stream",
     "text": [
      "0.40483859217506146\n",
      "5.956762360545942\n",
      "            A     B\n",
      "0    5.715810  8.92\n",
      "1    2.637592  8.96\n",
      "2    0.531011  8.79\n",
      "3    0.183625  8.12\n",
      "4    7.928892  8.81\n",
      "5    0.197092  9.04\n",
      "6    1.715594  8.43\n",
      "7    0.246670  8.36\n",
      "8    6.284349  7.68\n",
      "9    2.705753  7.89\n",
      "10   3.473937  8.58\n",
      "11   3.171038  8.44\n",
      "12   0.920595  7.98\n",
      "13   0.420070  9.04\n",
      "14   1.870739  9.39\n",
      "15   3.401505  8.36\n",
      "16   4.230274  8.62\n",
      "17   1.573554  8.07\n",
      "18   2.724704  8.53\n",
      "19   0.251564  8.26\n",
      "20   3.780832  8.36\n",
      "21   0.298259  9.17\n",
      "22   0.940078  8.54\n",
      "23   3.729114  8.36\n",
      "24  35.608858  7.74\n",
      "25   0.414673  8.18\n",
      "26   1.460860  8.32\n",
      "27   7.690958  7.84\n",
      "28   1.243065  8.67\n",
      "29   0.033734  8.37\n",
      "30   1.659623  8.28\n",
      "31   1.233157  8.48\n",
      "32   3.338111  8.20\n",
      "33   0.151038  8.39\n",
      "34   0.557905  8.14\n",
      "35   0.390858  7.99\n"
     ]
    }
   ],
   "source": [
    "data=pd.read_csv('AR_2_G.csv',header=0,)\n",
    "data = data.dropna(how='any')#quita los valores nan del documento\n",
    "y=data.iloc[:,0]\n",
    "\n",
    "x=data.iloc[:,1]\n",
    "\n",
    "print(stats.stdev(x))\n",
    "print(stats.stdev(y))\n",
    "print(data)"
   ]
  },
  {
   "cell_type": "code",
   "execution_count": 5,
   "metadata": {},
   "outputs": [
    {
     "data": {
      "text/plain": [
       "<function matplotlib.pyplot.show(close=None, block=None)>"
      ]
     },
     "execution_count": 5,
     "metadata": {},
     "output_type": "execute_result"
    },
    {
     "data": {
      "image/png": "[encoded data removed]",
      "text/plain": [
       "<Figure size 432x288 with 1 Axes>"
      ]
     },
     "metadata": {
      "needs_background": "light"
     },
     "output_type": "display_data"
    }
   ],
   "source": [
    "yerror = 5.956762360545942\n",
    "xerror = 0.40483859217506146\n",
    "plt.plot(x,y,'ro')\n",
    "plt.errorbar(x,y,yerr=yerror, fmt = ' ' , ecolor='black')\n",
    "plt.errorbar(x,y,xerr=xerror, fmt = ' ' , ecolor='blue')\n",
    "plt.ylabel('AR_2_G')\n",
    "plt.xlabel('$Hβ [log(M BH,vir /M_\\odot)]$')\n",
    "plt.title(\"Masa_virial_G\")\n",
    "#plt.xscale('log')\n",
    "#plt.yscale('log')\n",
    "plt.grid()\n",
    "plt.savefig(\"masa del virial _AR_2_G_error.pdf\")\n",
    "plt.show"
   ]
  },
  {
   "cell_type": "code",
   "execution_count": 6,
   "metadata": {},
   "outputs": [
    {
     "name": "stdout",
     "output_type": "stream",
     "text": [
      "0.40483859217506146\n",
      "1.0426252969185588\n",
      "           A     B\n",
      "0   0.783238  8.92\n",
      "1   1.910053  8.96\n",
      "2   0.043060  8.79\n",
      "3   0.082514  8.12\n",
      "4   0.418695  8.81\n",
      "5   0.105249  9.04\n",
      "6   0.639180  8.43\n",
      "7   0.116354  8.36\n",
      "8   1.629114  7.68\n",
      "9   0.992124  7.89\n",
      "10  1.610478  8.58\n",
      "11  0.033134  8.44\n",
      "12  0.479907  7.98\n",
      "13  0.507827  9.04\n",
      "14  3.594117  9.39\n",
      "15  1.830210  8.36\n",
      "16  3.705626  8.62\n",
      "17  0.960969  8.07\n",
      "18  0.276273  8.53\n",
      "19  0.103356  8.26\n",
      "20  1.286069  8.36\n",
      "21  0.197062  9.17\n",
      "22  0.462994  8.54\n",
      "23  0.972193  8.36\n",
      "24  2.375369  7.74\n",
      "25  0.183977  8.18\n",
      "26  0.206263  8.32\n",
      "27  3.692758  7.84\n",
      "28  0.515599  8.67\n",
      "29  0.878771  8.37\n",
      "30  1.665519  8.28\n",
      "31  0.342615  8.48\n",
      "32  0.080533  8.20\n",
      "33  0.182517  8.39\n",
      "34  0.035301  8.14\n",
      "35  0.505106  7.99\n"
     ]
    }
   ],
   "source": [
    "data=pd.read_csv('AR_2_R.csv',header=0,)\n",
    "data = data.dropna(how='any')#quita los valores nan del documento\n",
    "y=data.iloc[:,0]\n",
    "\n",
    "x=data.iloc[:,1]\n",
    "\n",
    "print(stats.stdev(x))\n",
    "print(stats.stdev(y))\n",
    "print(data)"
   ]
  },
  {
   "cell_type": "code",
   "execution_count": 7,
   "metadata": {},
   "outputs": [
    {
     "data": {
      "text/plain": [
       "<function matplotlib.pyplot.show(close=None, block=None)>"
      ]
     },
     "execution_count": 7,
     "metadata": {},
     "output_type": "execute_result"
    },
    {
     "data": {
      "image/png": "[encoded data removed]",
      "text/plain": [
       "<Figure size 432x288 with 1 Axes>"
      ]
     },
     "metadata": {
      "needs_background": "light"
     },
     "output_type": "display_data"
    }
   ],
   "source": [
    "yerror = 1.0426252969185588\n",
    "xerror = 0.40483859217506146\n",
    "plt.plot(x,y,'ro')\n",
    "plt.errorbar(x,y,yerr=yerror, fmt = ' ' , ecolor='black')\n",
    "plt.errorbar(x,y,xerr=xerror, fmt = ' ' , ecolor='blue')\n",
    "plt.ylabel('AR_2_R')\n",
    "plt.xlabel('$Hβ [log(M BH,vir /M_\\odot)]$')\n",
    "plt.title(\"Masa_virial_R\")\n",
    "#plt.xscale('log')\n",
    "#plt.yscale('log')\n",
    "plt.grid()\n",
    "plt.savefig(\"masa del virial _AR_2_R_error.pdf\")\n",
    "plt.show"
   ]
  },
  {
   "cell_type": "code",
   "execution_count": 9,
   "metadata": {},
   "outputs": [
    {
     "name": "stdout",
     "output_type": "stream",
     "text": [
      "0.40483859217506146\n",
      "2.2587246761177395\n",
      "            A     B\n",
      "0    2.624631  8.92\n",
      "1    2.510650  8.96\n",
      "2    0.114183  8.79\n",
      "3    0.129539  8.12\n",
      "4    0.115155  8.81\n",
      "5    0.117425  9.04\n",
      "6    0.978608  8.43\n",
      "7    0.847420  8.36\n",
      "8    3.510674  7.68\n",
      "9   12.091779  7.89\n",
      "10   4.259433  8.58\n",
      "11   1.265950  8.44\n",
      "12   0.230821  7.98\n",
      "13   1.086372  9.04\n",
      "14   4.218564  9.39\n",
      "15   1.480220  8.36\n",
      "16   3.023356  8.62\n",
      "17   0.312877  8.07\n",
      "18   0.186869  8.53\n",
      "19   0.273019  8.26\n",
      "20   0.247043  8.36\n",
      "21   0.096677  9.17\n",
      "22   1.378078  8.54\n",
      "23   0.775541  8.36\n",
      "24   0.665577  7.74\n",
      "25   4.327587  8.18\n",
      "26   0.695473  8.32\n",
      "27   2.576144  7.84\n",
      "28   3.818363  8.67\n",
      "29   1.478634  8.37\n",
      "30   3.113136  8.28\n",
      "31   0.416703  8.48\n",
      "32   0.086668  8.20\n",
      "33   0.284866  8.39\n",
      "34   0.510673  8.14\n",
      "35   0.560143  7.99\n"
     ]
    }
   ],
   "source": [
    "data=pd.read_csv('AR_I_.csv',header=0,)\n",
    "data = data.dropna(how='any')#quita los valores nan del documento\n",
    "y=data.iloc[:,0]\n",
    "\n",
    "x=data.iloc[:,1]\n",
    "\n",
    "print(stats.stdev(x))\n",
    "print(stats.stdev(y))\n",
    "print(data)"
   ]
  },
  {
   "cell_type": "code",
   "execution_count": 10,
   "metadata": {},
   "outputs": [
    {
     "data": {
      "text/plain": [
       "<function matplotlib.pyplot.show(close=None, block=None)>"
      ]
     },
     "execution_count": 10,
     "metadata": {},
     "output_type": "execute_result"
    },
    {
     "data": {
      "image/png": "[encoded data removed]",
      "text/plain": [
       "<Figure size 432x288 with 1 Axes>"
      ]
     },
     "metadata": {
      "needs_background": "light"
     },
     "output_type": "display_data"
    }
   ],
   "source": [
    "yerror = 2.2587246761177395\n",
    "xerror = 0.40483859217506146\n",
    "plt.plot(x,y,'ro')\n",
    "plt.errorbar(x,y,yerr=yerror, fmt = ' ' , ecolor='black')\n",
    "plt.errorbar(x,y,xerr=xerror, fmt = ' ' , ecolor='blue')\n",
    "plt.ylabel('AR_2_I')\n",
    "plt.xlabel('$Hβ [log(M BH,vir /M_\\odot)]$')\n",
    "plt.title(\"Masa_virial_I\")\n",
    "#plt.xscale('log')\n",
    "#plt.yscale('log')\n",
    "plt.grid()\n",
    "plt.savefig(\"masa del virial _AR_2_I_error.pdf\")\n",
    "plt.show"
   ]
  },
  {
   "cell_type": "code",
   "execution_count": 11,
   "metadata": {},
   "outputs": [
    {
     "name": "stdout",
     "output_type": "stream",
     "text": [
      "0.40483859217506146\n",
      "2.750962868624901\n",
      "            A     B\n",
      "0    0.589306  8.92\n",
      "1    0.281835  8.96\n",
      "2    0.156123  8.79\n",
      "3    0.391727  8.12\n",
      "4    1.529968  8.81\n",
      "5    0.179345  9.04\n",
      "6    0.456956  8.43\n",
      "7    0.216112  8.36\n",
      "8    1.287858  7.68\n",
      "9   14.403749  7.89\n",
      "10   0.197199  8.58\n",
      "11   0.518685  8.44\n",
      "12   0.186580  7.98\n",
      "13   0.251868  9.04\n",
      "14   0.612526  9.39\n",
      "15   0.072795  8.36\n",
      "16   0.826102  8.62\n",
      "17   0.247466  8.07\n",
      "18   0.093419  8.53\n",
      "19   0.950570  8.26\n",
      "20   9.503536  8.36\n",
      "21   0.457643  9.17\n",
      "22   0.512661  8.54\n",
      "23   1.331156  8.36\n",
      "24   0.253412  7.74\n",
      "25   0.378212  8.18\n",
      "26   0.261565  8.32\n",
      "27   0.410288  7.84\n",
      "28   1.238668  8.67\n",
      "29   0.419052  8.37\n",
      "30   0.729484  8.28\n",
      "31   0.183715  8.48\n",
      "32   0.262367  8.20\n",
      "33   0.839896  8.39\n",
      "34   0.218336  8.14\n",
      "35   0.297238  7.99\n"
     ]
    }
   ],
   "source": [
    "data=pd.read_csv('AR_2_Z.csv',header=0,)\n",
    "data = data.dropna(how='any')#quita los valores nan del documento\n",
    "y=data.iloc[:,0]\n",
    "\n",
    "x=data.iloc[:,1]\n",
    "\n",
    "print(stats.stdev(x))\n",
    "print(stats.stdev(y))\n",
    "print(data)"
   ]
  },
  {
   "cell_type": "code",
   "execution_count": 12,
   "metadata": {},
   "outputs": [
    {
     "data": {
      "text/plain": [
       "<function matplotlib.pyplot.show(close=None, block=None)>"
      ]
     },
     "execution_count": 12,
     "metadata": {},
     "output_type": "execute_result"
    },
    {
     "data": {
      "image/png": "[encoded data removed]",
      "text/plain": [
       "<Figure size 432x288 with 1 Axes>"
      ]
     },
     "metadata": {
      "needs_background": "light"
     },
     "output_type": "display_data"
    }
   ],
   "source": [
    "yerror = 2.750962868624901\n",
    "xerror = 0.40483859217506146\n",
    "plt.plot(x,y,'ro')\n",
    "plt.errorbar(x,y,yerr=yerror, fmt = ' ' , ecolor='black')\n",
    "plt.errorbar(x,y,xerr=xerror, fmt = ' ' , ecolor='blue')\n",
    "plt.ylabel('AR_2_Z')\n",
    "plt.xlabel('$Hβ [log(M BH,vir /M_\\odot)]$')\n",
    "plt.title(\"Masa_virial_Z\")\n",
    "#plt.xscale('log')\n",
    "#plt.yscale('log')\n",
    "plt.grid()\n",
    "plt.savefig(\"masa del virial _AR_2_Z_error.pdf\")\n",
    "plt.show"
   ]
  }
 ],
 "metadata": {
  "kernelspec": {
   "display_name": "Python 3",
   "language": "python",
   "name": "python3"
  },
  "language_info": {
   "codemirror_mode": {
    "name": "ipython",
    "version": 3
   },
   "file_extension": ".py",
   "mimetype": "text/x-python",
   "name": "python",
   "nbconvert_exporter": "python",
   "pygments_lexer": "ipython3",
   "version": "3.7.6"
  }
 },
 "nbformat": 4,
 "nbformat_minor": 4
}
