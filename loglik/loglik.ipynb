{
 "cells": [
  {
   "cell_type": "code",
   "execution_count": 1,
   "metadata": {},
   "outputs": [],
   "source": [
    "import pandas as pd \n",
    "import numpy as np \n",
    "import scipy.stats as st \n",
    "from scipy.interpolate import interp1d\n",
    "import matplotlib.pyplot as plt \n",
    "import math\n",
    "import statistics as stats\n"
   ]
  },
  {
   "cell_type": "code",
   "execution_count": 2,
   "metadata": {},
   "outputs": [
    {
     "name": "stdout",
     "output_type": "stream",
     "text": [
      "0.40483859217506146\n",
      "             A         B     C\n",
      "0   106.092218  1.789340  8.92\n",
      "1   114.110142  1.738364  8.96\n",
      "2    67.115742  1.652795  8.79\n",
      "3    71.672233  1.583762  8.12\n",
      "4    90.909547  1.739032  8.81\n",
      "5    38.123940  1.808629  9.04\n",
      "6    41.883301  1.714128  8.43\n",
      "7    82.687048  1.682018  8.36\n",
      "8    85.521977  1.879507  7.68\n",
      "9   114.461895  2.201856  7.89\n",
      "10   69.432624  1.673766  8.58\n",
      "11   61.413106  1.965651  8.44\n",
      "12   55.493025  1.677278  7.98\n",
      "13  113.929572  3.377548  9.04\n",
      "14   47.997254  1.746228  9.39\n",
      "15   65.130841  1.806652  8.36\n",
      "16  113.431624  1.855293  8.62\n",
      "17   64.887819  1.987868  8.07\n",
      "18   64.102514  1.453331  8.53\n",
      "19   93.788092  1.870178  8.26\n",
      "20   78.844022  1.692492  8.36\n",
      "21   57.374911  1.554653  9.17\n",
      "22   74.349528  1.669636  8.54\n",
      "23   69.092579  1.668290  8.36\n",
      "24   71.407088  1.716432  7.74\n",
      "25   82.345132  1.720942  8.18\n",
      "26   93.522354  1.579339  8.32\n",
      "27   74.835887  1.945104  7.84\n",
      "28  100.546046  1.867169  8.67\n",
      "29   53.352733  1.702883  8.37\n",
      "30   75.562878  1.929679  8.28\n",
      "31  114.678430  1.703680  8.48\n",
      "32  108.271262  1.579944  8.20\n",
      "33   58.534688  1.713424  8.39\n",
      "34   74.190983  1.779334  8.14\n",
      "35   67.854540  2.057816  7.99\n"
     ]
    }
   ],
   "source": [
    "data=pd.read_csv('loglik_U.csv',header=0,)\n",
    "data = data.dropna(how='any')#quita los valores nan del documento\n",
    "y=data.iloc[:,0]\n",
    "w=data.iloc[:,1]\n",
    "x=data.iloc[:,2]\n",
    "\n",
    "print(stats.stdev(x))\n",
    "print(data)"
   ]
  },
  {
   "cell_type": "code",
   "execution_count": 4,
   "metadata": {},
   "outputs": [
    {
     "data": {
      "text/plain": [
       "<function matplotlib.pyplot.show(close=None, block=None)>"
      ]
     },
     "execution_count": 4,
     "metadata": {},
     "output_type": "execute_result"
    },
    {
     "data": {
      "image/png": "[encoded data removed]",
      "text/plain": [
       "<Figure size 432x288 with 1 Axes>"
      ]
     },
     "metadata": {
      "needs_background": "light"
     },
     "output_type": "display_data"
    }
   ],
   "source": [
    "yerror = w\n",
    "xerror = 0.40483859217506146\n",
    "plt.plot(x,y,'ro')\n",
    "plt.errorbar(x,y,yerr=yerror, fmt = ' ' , ecolor='black')\n",
    "plt.errorbar(x,y,xerr=xerror, fmt = ' ' , ecolor='blue')\n",
    "plt.ylabel('loglik_U')\n",
    "plt.xlabel('$Hβ [log(M BH,vir /M_\\odot)]$')\n",
    "plt.title(\"Masa_virial_U\")\n",
    "#plt.xscale('log')\n",
    "#plt.yscale('log')\n",
    "plt.grid()\n",
    "plt.savefig(\"masa del virial _loglik_U_error.pdf\")\n",
    "plt.show"
   ]
  },
  {
   "cell_type": "code",
   "execution_count": 5,
   "metadata": {},
   "outputs": [
    {
     "name": "stdout",
     "output_type": "stream",
     "text": [
      "0.40483859217506146\n",
      "             A         B     C\n",
      "0   130.202316  1.949627  8.92\n",
      "1   149.906770  2.918206  8.96\n",
      "2   105.104500  1.736560  8.79\n",
      "3    98.717990  1.618173  8.12\n",
      "4   125.089477  2.485903  8.81\n",
      "5    87.663066  1.858921  9.04\n",
      "6    87.293669  2.135802  8.43\n",
      "7   127.472369  1.732918  8.36\n",
      "8   127.449660  2.294009  7.68\n",
      "9   135.415960  2.130984  7.89\n",
      "10  108.173490  2.529859  8.58\n",
      "11  101.057148  2.106850  8.44\n",
      "12  103.470656  2.086177  7.98\n",
      "13  100.575973  1.765244  9.04\n",
      "14  149.282667  2.402297  9.39\n",
      "15  135.545889  2.216518  8.36\n",
      "16   65.130841  1.806652  8.62\n",
      "17  160.199001  3.053081  8.07\n",
      "18  112.908716  2.343088  8.53\n",
      "19  117.786019  1.732861  8.26\n",
      "20  166.444608  2.806432  8.36\n",
      "21   91.563931  1.746222  9.17\n",
      "22  121.327413  1.753963  8.54\n",
      "23  114.224626  2.934385  8.36\n",
      "24   11.403672  1.611195  7.74\n",
      "25   88.176710  1.801872  8.18\n",
      "26  140.936177  2.455924  8.32\n",
      "27  120.900639  1.828892  7.84\n",
      "28  134.788223  1.718125  8.67\n",
      "29  116.876448  2.133232  8.37\n",
      "30  130.833115  2.245586  8.28\n",
      "31  135.028288  2.992300  8.48\n",
      "32  114.295519  2.859624  8.20\n",
      "33  162.373388  1.709564  8.39\n",
      "34  106.612697  1.968459  8.14\n",
      "35  108.937633  1.862822  7.99\n"
     ]
    }
   ],
   "source": [
    "data=pd.read_csv('loglik_G.csv',header=0,)\n",
    "data = data.dropna(how='any')#quita los valores nan del documento\n",
    "y=data.iloc[:,0]\n",
    "w=data.iloc[:,1]\n",
    "x=data.iloc[:,2]\n",
    "\n",
    "print(stats.stdev(x))\n",
    "print(data)"
   ]
  },
  {
   "cell_type": "code",
   "execution_count": 7,
   "metadata": {},
   "outputs": [
    {
     "data": {
      "text/plain": [
       "<function matplotlib.pyplot.show(close=None, block=None)>"
      ]
     },
     "execution_count": 7,
     "metadata": {},
     "output_type": "execute_result"
    },
    {
     "data": {
      "image/png": "[encoded data removed]",
      "text/plain": [
       "<Figure size 432x288 with 1 Axes>"
      ]
     },
     "metadata": {
      "needs_background": "light"
     },
     "output_type": "display_data"
    }
   ],
   "source": [
    "yerror = w\n",
    "xerror = 0.40483859217506146\n",
    "plt.plot(x,y,'ro')\n",
    "plt.errorbar(x,y,yerr=yerror, fmt = ' ' , ecolor='black')\n",
    "plt.errorbar(x,y,xerr=xerror, fmt = ' ' , ecolor='blue')\n",
    "plt.ylabel('loglik_G')\n",
    "plt.xlabel('$Hβ [log(M BH,vir /M_\\odot)]$')\n",
    "plt.title(\"Masa_virial_G\")\n",
    "#plt.xscale('log')\n",
    "#plt.yscale('log')\n",
    "plt.grid()\n",
    "plt.savefig(\"masa del virial _loglik_G_error.pdf\")\n",
    "plt.show"
   ]
  },
  {
   "cell_type": "code",
   "execution_count": 8,
   "metadata": {},
   "outputs": [
    {
     "name": "stdout",
     "output_type": "stream",
     "text": [
      "0.40483859217506146\n",
      "             A         B     C\n",
      "0   154.399355  1.829780  8.92\n",
      "1   150.212161  2.298551  8.96\n",
      "2   109.168604  1.641570  8.79\n",
      "3   117.038446  1.661915  8.12\n",
      "4   131.885924  1.702738  8.81\n",
      "5    94.446818  1.600187  9.04\n",
      "6   102.201247  1.721380  8.43\n",
      "7   133.644248  1.619542  8.36\n",
      "8   122.880142  2.853628  7.68\n",
      "9   125.493599  2.305015  7.89\n",
      "10  115.575280  3.120890  8.58\n",
      "11   96.124072  1.881452  8.44\n",
      "12  127.602538  1.871681  7.98\n",
      "13  109.954747  1.795967  9.04\n",
      "14  152.709658  3.196295  9.39\n",
      "15  132.538366  2.133474  8.36\n",
      "16  104.920434  2.025247  8.62\n",
      "17  166.146616  1.948127  8.07\n",
      "18  137.986398  1.570309  8.53\n",
      "19  116.624729  1.632369  8.26\n",
      "20  164.310609  1.920422  8.36\n",
      "21  129.123536  1.776768  9.17\n",
      "22  106.599550  1.956374  8.54\n",
      "23  132.337081  1.941194  8.36\n",
      "24  125.136069  1.862315  7.74\n",
      "25  140.673805  1.741201  8.18\n",
      "26  109.218395  1.651118  8.32\n",
      "27  142.991843  2.406955  7.84\n",
      "28  108.754941  1.680206  8.67\n",
      "29  147.972351  1.660855  8.37\n",
      "30  121.084782  1.659207  8.28\n",
      "31  148.529707  1.705313  8.48\n",
      "32  158.854120  1.716287  8.20\n",
      "33  127.670154  1.750005  8.39\n",
      "34  108.112994  2.060524  8.14\n",
      "35  179.607860  1.740327  7.99\n"
     ]
    }
   ],
   "source": [
    "data=pd.read_csv('loglik_R.csv',header=0,)\n",
    "data = data.dropna(how='any')#quita los valores nan del documento\n",
    "y=data.iloc[:,0]\n",
    "w=data.iloc[:,1]\n",
    "x=data.iloc[:,2]\n",
    "\n",
    "print(stats.stdev(x))\n",
    "print(data)"
   ]
  },
  {
   "cell_type": "code",
   "execution_count": 9,
   "metadata": {},
   "outputs": [
    {
     "data": {
      "text/plain": [
       "<function matplotlib.pyplot.show(close=None, block=None)>"
      ]
     },
     "execution_count": 9,
     "metadata": {},
     "output_type": "execute_result"
    },
    {
     "data": {
      "image/png": "[encoded data removed]",
      "text/plain": [
       "<Figure size 432x288 with 1 Axes>"
      ]
     },
     "metadata": {
      "needs_background": "light"
     },
     "output_type": "display_data"
    }
   ],
   "source": [
    "yerror = w\n",
    "xerror = 0.40483859217506146\n",
    "plt.plot(x,y,'ro')\n",
    "plt.errorbar(x,y,yerr=yerror, fmt = ' ' , ecolor='black')\n",
    "plt.errorbar(x,y,xerr=xerror, fmt = ' ' , ecolor='blue')\n",
    "plt.ylabel('loglik_R')\n",
    "plt.xlabel('$Hβ [log(M BH,vir /M_\\odot)]$')\n",
    "plt.title(\"Masa_virial_R\")\n",
    "#plt.xscale('log')\n",
    "#plt.yscale('log')\n",
    "plt.grid()\n",
    "plt.savefig(\"masa del virial _loglik_R_error.pdf\")\n",
    "plt.show"
   ]
  },
  {
   "cell_type": "code",
   "execution_count": 10,
   "metadata": {},
   "outputs": [
    {
     "name": "stdout",
     "output_type": "stream",
     "text": [
      "0.40483859217506146\n",
      "             A         B     C\n",
      "0   141.824069  3.040497  8.92\n",
      "1   151.780281  2.574591  8.96\n",
      "2    92.614660  1.641891  8.79\n",
      "3   110.824485  2.394953  8.12\n",
      "4   112.537535  2.833369  8.81\n",
      "5    82.653622  1.613353  9.04\n",
      "6    90.390099  1.868144  8.43\n",
      "7   115.311503  2.153094  8.36\n",
      "8   120.670278  2.945768  7.68\n",
      "9   128.871746  2.022604  7.89\n",
      "10  133.232825  3.091373  8.58\n",
      "11  105.613104  2.953670  8.44\n",
      "12  119.352667  1.604155  7.98\n",
      "13  105.764053  1.927249  9.04\n",
      "14  137.818425  2.197142  9.39\n",
      "15  127.747533  1.839146  8.36\n",
      "16   94.495213  2.871864  8.62\n",
      "17  163.973034  1.566277  8.07\n",
      "18  107.659455  1.525801  8.53\n",
      "19  106.402032  1.662936  8.26\n",
      "20  191.654031  1.669083  8.36\n",
      "21  122.684016  1.938199  9.17\n",
      "22   79.680813  2.351582  8.54\n",
      "23  113.158142  2.415318  8.36\n",
      "24  124.083039  1.583199  7.74\n",
      "25  103.324196  2.849895  8.18\n",
      "26   93.081458  1.652421  8.32\n",
      "27  141.672809  2.862703  7.84\n",
      "28  119.525738  3.343894  8.67\n",
      "29  127.089446  1.922863  8.37\n",
      "30  114.236083  3.047728  8.28\n",
      "31  130.414648  1.601120  8.48\n",
      "32  158.669322  1.732631  8.20\n",
      "33  119.799947  1.576563  8.39\n",
      "34  100.223296  3.072920  8.14\n",
      "35  163.474968  1.991819  7.99\n"
     ]
    }
   ],
   "source": [
    "data=pd.read_csv('loglik_I.csv',header=0,)\n",
    "data = data.dropna(how='any')#quita los valores nan del documento\n",
    "y=data.iloc[:,0]\n",
    "w=data.iloc[:,1]\n",
    "x=data.iloc[:,2]\n",
    "\n",
    "print(stats.stdev(x))\n",
    "print(data)"
   ]
  },
  {
   "cell_type": "code",
   "execution_count": 11,
   "metadata": {},
   "outputs": [
    {
     "data": {
      "text/plain": [
       "<function matplotlib.pyplot.show(close=None, block=None)>"
      ]
     },
     "execution_count": 11,
     "metadata": {},
     "output_type": "execute_result"
    },
    {
     "data": {
      "image/png": "[encoded data removed]",
      "text/plain": [
       "<Figure size 432x288 with 1 Axes>"
      ]
     },
     "metadata": {
      "needs_background": "light"
     },
     "output_type": "display_data"
    }
   ],
   "source": [
    "yerror = w\n",
    "xerror = 0.40483859217506146\n",
    "plt.plot(x,y,'ro')\n",
    "plt.errorbar(x,y,yerr=yerror, fmt = ' ' , ecolor='black')\n",
    "plt.errorbar(x,y,xerr=xerror, fmt = ' ' , ecolor='blue')\n",
    "plt.ylabel('loglik_I')\n",
    "plt.xlabel('$Hβ [log(M BH,vir /M_\\odot)]$')\n",
    "plt.title(\"Masa_virial_I\")\n",
    "#plt.xscale('log')\n",
    "#plt.yscale('log')\n",
    "plt.grid()\n",
    "plt.savefig(\"masa del virial _loglik_I_error.pdf\")\n",
    "plt.show"
   ]
  },
  {
   "cell_type": "code",
   "execution_count": 12,
   "metadata": {},
   "outputs": [
    {
     "name": "stdout",
     "output_type": "stream",
     "text": [
      "0.40483859217506146\n",
      "             A         B     C\n",
      "0   137.892281  1.687340  8.92\n",
      "1   113.125078  1.561252  8.96\n",
      "2    54.439427  1.585758  8.79\n",
      "3    65.567099  1.576602  8.12\n",
      "4   100.513633  1.802875  8.81\n",
      "5    55.107794  1.597530  9.04\n",
      "6    58.256015  1.521645  8.43\n",
      "7    78.319662  1.573330  8.36\n",
      "8    98.992731  1.835822  7.68\n",
      "9   115.243242  4.122565  7.89\n",
      "10   95.633837  1.622716  8.58\n",
      "11   61.590522  1.699663  8.44\n",
      "12   69.153299  1.584507  7.98\n",
      "13   48.803222  1.559464  9.04\n",
      "14  118.717210  1.564705  9.39\n",
      "15   76.505208  1.916490  8.36\n",
      "16   74.845118  1.657142  8.62\n",
      "17  119.769266  1.609931  8.07\n",
      "18   55.418008  1.677529  8.53\n",
      "19   72.191113  1.732935  8.26\n",
      "20  145.332053  4.059948  8.36\n",
      "21   62.115305  1.966725  9.17\n",
      "22   71.574975  1.487565  8.54\n",
      "23   69.374844  1.841354  8.36\n",
      "24   12.124854  1.703231  7.74\n",
      "25   66.499566  1.563036  8.18\n",
      "26  110.468086  1.624782  8.32\n",
      "27   78.700026  2.049537  7.84\n",
      "28   62.769659  1.733785  8.67\n",
      "29   87.023309  1.557148  8.37\n",
      "30   82.359470  1.582954  8.28\n",
      "31  102.902357  1.662697  8.48\n",
      "32   79.149105  1.538557  8.20\n",
      "33   54.685024  2.103819  8.39\n",
      "34  111.662575  1.457791  8.14\n",
      "35   76.011122  1.957854  7.99\n"
     ]
    }
   ],
   "source": [
    "data=pd.read_csv('loglik_Z.csv',header=0,)\n",
    "data = data.dropna(how='any')#quita los valores nan del documento\n",
    "y=data.iloc[:,0]\n",
    "w=data.iloc[:,1]\n",
    "x=data.iloc[:,2]\n",
    "\n",
    "print(stats.stdev(x))\n",
    "print(data)"
   ]
  },
  {
   "cell_type": "code",
   "execution_count": 13,
   "metadata": {},
   "outputs": [
    {
     "data": {
      "text/plain": [
       "<function matplotlib.pyplot.show(close=None, block=None)>"
      ]
     },
     "execution_count": 13,
     "metadata": {},
     "output_type": "execute_result"
    },
    {
     "data": {
      "image/png": "[encoded data removed]",
      "text/plain": [
       "<Figure size 432x288 with 1 Axes>"
      ]
     },
     "metadata": {
      "needs_background": "light"
     },
     "output_type": "display_data"
    }
   ],
   "source": [
    "yerror = w\n",
    "xerror = 0.40483859217506146\n",
    "plt.plot(x,y,'ro')\n",
    "plt.errorbar(x,y,yerr=yerror, fmt = ' ' , ecolor='black')\n",
    "plt.errorbar(x,y,xerr=xerror, fmt = ' ' , ecolor='blue')\n",
    "plt.ylabel('loglik_Z')\n",
    "plt.xlabel('$Hβ [log(M BH,vir /M_\\odot)]$')\n",
    "plt.title(\"Masa_virial_Z\")\n",
    "#plt.xscale('log')\n",
    "#plt.yscale('log')\n",
    "plt.grid()\n",
    "plt.savefig(\"masa del virial _loglik_Z_error.pdf\")\n",
    "plt.show"
   ]
  }
 ],
 "metadata": {
  "kernelspec": {
   "display_name": "Python 3",
   "language": "python",
   "name": "python3"
  },
  "language_info": {
   "codemirror_mode": {
    "name": "ipython",
    "version": 3
   },
   "file_extension": ".py",
   "mimetype": "text/x-python",
   "name": "python",
   "nbconvert_exporter": "python",
   "pygments_lexer": "ipython3",
   "version": "3.7.6"
  }
 },
 "nbformat": 4,
 "nbformat_minor": 4
}
