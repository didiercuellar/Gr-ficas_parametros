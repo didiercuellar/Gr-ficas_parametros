{
 "cells": [
  {
   "cell_type": "code",
   "execution_count": 1,
   "metadata": {},
   "outputs": [],
   "source": [
    "import pandas as pd \n",
    "import numpy as np \n",
    "import scipy.stats as st \n",
    "from scipy.interpolate import interp1d\n",
    "import matplotlib.pyplot as plt \n",
    "import math\n",
    "import statistics as stats"
   ]
  },
  {
   "cell_type": "code",
   "execution_count": 4,
   "metadata": {},
   "outputs": [
    {
     "name": "stdout",
     "output_type": "stream",
     "text": [
      "0.40483859217506146\n",
      "               A         B     C\n",
      "0   6.497258e-05  0.003707  8.92\n",
      "1   3.846685e-03  0.253235  8.96\n",
      "2   1.902442e-05  0.003634  8.79\n",
      "3   1.465659e-05  0.012098  8.12\n",
      "4   1.959165e-05  0.006184  8.81\n",
      "5   2.855246e-04  0.044214  9.04\n",
      "6   8.375490e-04  0.799201  8.43\n",
      "7   1.427892e-03  0.054043  8.36\n",
      "8   1.932190e-03  0.266114  7.68\n",
      "9   2.178607e-03  0.368536  7.89\n",
      "10  2.327441e-05  0.135988  8.58\n",
      "11  4.565673e-06  0.007107  8.44\n",
      "12  9.236963e-05  0.196197  7.98\n",
      "13  3.038000e-02  0.569091  9.04\n",
      "14  1.066530e-04  0.194273  9.39\n",
      "15  2.482377e-04  0.415536  8.36\n",
      "16  1.540140e-04  0.206434  8.62\n",
      "17  7.692028e-04  0.374508  8.07\n",
      "18  2.712251e-05  0.019247  8.53\n",
      "19  5.177196e-06  0.064422  8.26\n",
      "20  9.951746e-05  0.111789  8.36\n",
      "21  6.455780e-08  0.143307  9.17\n",
      "22  1.237160e-03  0.243945  8.54\n",
      "23  1.375756e-04  0.229583  8.36\n",
      "24  1.608458e-03  0.322334  7.74\n",
      "25  6.340278e-04  0.264676  8.18\n",
      "26  8.522874e-05  0.084175  8.32\n",
      "27  4.796950e-05  0.238311  7.84\n",
      "28  3.586623e-04  0.093501  8.67\n",
      "29  4.756320e-05  0.044675  8.37\n",
      "30  8.808755e-05  0.161417  8.28\n",
      "31  7.404303e-05  0.039317  8.48\n",
      "32  8.358983e-05  0.088720  8.20\n",
      "33  3.930051e-04  0.313197  8.39\n",
      "34  4.324205e-04  0.059990  8.14\n",
      "35  9.056541e-04  0.061806  7.99\n"
     ]
    }
   ],
   "source": [
    "data=pd.read_csv('sigma_U.csv',header=0,)\n",
    "data = data.dropna(how='any')#quita los valores nan del documento\n",
    "y=data.iloc[:,0]\n",
    "w=data.iloc[:,1]\n",
    "x=data.iloc[:,2]\n",
    "\n",
    "print(stats.stdev(x))\n",
    "print(data)"
   ]
  },
  {
   "cell_type": "code",
   "execution_count": 5,
   "metadata": {},
   "outputs": [
    {
     "data": {
      "text/plain": [
       "<function matplotlib.pyplot.show(close=None, block=None)>"
      ]
     },
     "execution_count": 5,
     "metadata": {},
     "output_type": "execute_result"
    },
    {
     "data": {
      "image/png": "[encoded data removed]",
      "text/plain": [
       "<Figure size 432x288 with 1 Axes>"
      ]
     },
     "metadata": {
      "needs_background": "light"
     },
     "output_type": "display_data"
    }
   ],
   "source": [
    "yerror = w\n",
    "xerror = 0.40483859217506146\n",
    "plt.plot(x,y,'ro')\n",
    "plt.errorbar(x,y,yerr=yerror, fmt = ' ' , ecolor='black')\n",
    "plt.errorbar(x,y,xerr=xerror, fmt = ' ' , ecolor='blue')\n",
    "plt.ylabel('sigma_U')\n",
    "plt.xlabel('$Hβ [log(M BH,vir /M_\\odot)]$')\n",
    "plt.title(\"Masa_virial_U\")\n",
    "#plt.xscale('log')\n",
    "#plt.yscale('log')\n",
    "plt.grid()\n",
    "plt.savefig(\"masa del virial _sigma_U_error.pdf\")\n",
    "plt.show"
   ]
  },
  {
   "cell_type": "code",
   "execution_count": 6,
   "metadata": {},
   "outputs": [
    {
     "name": "stdout",
     "output_type": "stream",
     "text": [
      "0.40483859217506146\n",
      "           A          B     C\n",
      "0   0.020374   0.217542  8.92\n",
      "1   0.019147   0.245628  8.96\n",
      "2   0.000347   0.007313  8.79\n",
      "3   0.000015   0.018346  8.12\n",
      "4   0.204625   0.424457  8.81\n",
      "5   0.000170   0.003055  9.04\n",
      "6   0.006953   0.503600  8.43\n",
      "7   0.000133   0.005194  8.36\n",
      "8   0.067764   0.496364  7.68\n",
      "9   0.021625   0.227340  7.89\n",
      "10  0.022666   0.368845  8.58\n",
      "11  0.001682   0.298338  8.44\n",
      "12  0.000366   0.174581  7.98\n",
      "13  0.000277   0.024135  9.04\n",
      "14  0.015656   0.249361  9.39\n",
      "15  0.012202   0.240847  8.36\n",
      "16  0.032636   0.481252  8.62\n",
      "17  0.000576   0.196042  8.07\n",
      "18  0.008339   0.322689  8.53\n",
      "19  0.000079   0.018817  8.26\n",
      "20  0.010847   0.288359  8.36\n",
      "21  0.000001   0.078270  9.17\n",
      "22  0.000352   0.146741  8.54\n",
      "23  0.000277   0.024135  8.36\n",
      "24  0.015656   0.249361  7.74\n",
      "25  0.012202   0.240847  8.18\n",
      "26  0.032636   0.481252  8.32\n",
      "27  0.000576   0.196042  7.84\n",
      "28  0.008339   0.322689  8.67\n",
      "29  0.000079   0.018817  8.37\n",
      "30  0.010847   0.288359  8.28\n",
      "31  0.000001   0.078270  8.48\n",
      "32  0.000352   0.146741  8.20\n",
      "33  0.061857   0.375656  8.39\n",
      "34  0.000007  52.811440  8.14\n",
      "35  0.000085   0.124475  7.99\n"
     ]
    }
   ],
   "source": [
    "data=pd.read_csv('sigma_G.csv',header=0,)\n",
    "data = data.dropna(how='any')#quita los valores nan del documento\n",
    "y=data.iloc[:,0]\n",
    "w=data.iloc[:,1]\n",
    "x=data.iloc[:,2]\n",
    "\n",
    "print(stats.stdev(x))\n",
    "print(data)"
   ]
  },
  {
   "cell_type": "code",
   "execution_count": 7,
   "metadata": {},
   "outputs": [
    {
     "data": {
      "text/plain": [
       "<function matplotlib.pyplot.show(close=None, block=None)>"
      ]
     },
     "execution_count": 7,
     "metadata": {},
     "output_type": "execute_result"
    },
    {
     "data": {
      "image/png": "[encoded data removed]",
      "text/plain": [
       "<Figure size 432x288 with 1 Axes>"
      ]
     },
     "metadata": {
      "needs_background": "light"
     },
     "output_type": "display_data"
    }
   ],
   "source": [
    "yerror = w\n",
    "xerror = 0.40483859217506146\n",
    "plt.plot(x,y,'ro')\n",
    "plt.errorbar(x,y,yerr=yerror, fmt = ' ' , ecolor='black')\n",
    "plt.errorbar(x,y,xerr=xerror, fmt = ' ' , ecolor='blue')\n",
    "plt.ylabel('sigma_G')\n",
    "plt.xlabel('$Hβ [log(M BH,vir /M_\\odot)]$')\n",
    "plt.title(\"Masa_virial_G\")\n",
    "#plt.xscale('log')\n",
    "#plt.yscale('log')\n",
    "plt.grid()\n",
    "plt.savefig(\"masa del virial _sigma_G_error.pdf\")\n",
    "plt.show"
   ]
  },
  {
   "cell_type": "code",
   "execution_count": 3,
   "metadata": {},
   "outputs": [
    {
     "name": "stdout",
     "output_type": "stream",
     "text": [
      "0.40483859217506146\n",
      "               A         B     C\n",
      "0   2.400305e-04  0.049229  8.92\n",
      "1   9.936752e-03  0.466189  8.96\n",
      "2   9.763139e-06  0.002430  8.79\n",
      "3   6.293098e-06  0.013842  8.12\n",
      "4   1.464084e-04  0.074123  8.81\n",
      "5   3.882826e-05  0.000768  9.04\n",
      "6   1.311238e-04  0.199589  8.43\n",
      "7   6.256137e-05  0.002016  8.36\n",
      "8   1.853041e-02  0.237832  7.68\n",
      "9   7.714610e-03  0.224452  7.89\n",
      "10  2.427883e-02  0.262688  8.58\n",
      "11  2.443309e-06  0.009582  8.44\n",
      "12  2.641689e-04  0.117634  7.98\n",
      "13  4.587979e-04  0.117059  9.04\n",
      "14  9.244816e-03  0.233762  9.39\n",
      "15  2.111367e-03  0.174080  8.36\n",
      "16  1.643312e-02  0.411545  8.62\n",
      "17  2.929701e-04  0.110452  8.07\n",
      "18  4.407943e-05  0.020968  8.53\n",
      "19  1.102703e-05  0.005729  8.26\n",
      "20  1.643648e-02  0.108667  8.36\n",
      "21  4.036088e-05  0.027482  9.17\n",
      "22  1.696572e-04  0.019405  8.54\n",
      "23  7.609190e-04  0.162790  8.36\n",
      "24  4.054391e-03  0.275583  7.74\n",
      "25  3.051144e-06  0.051299  8.18\n",
      "26  6.092606e-05  0.015737  8.32\n",
      "27  6.468191e-02  0.222138  7.84\n",
      "28  8.425319e-05  0.193637  8.67\n",
      "29  2.835503e-04  0.000284  8.37\n",
      "30  2.095747e-03  0.205957  8.28\n",
      "31  7.863227e-05  0.046811  8.48\n",
      "32  3.462874e-06  0.028237  8.20\n",
      "33  5.870775e-05  0.039210  8.39\n",
      "34  3.284781e-07  0.002484  8.14\n",
      "35  1.039835e-04  0.037492  7.99\n"
     ]
    }
   ],
   "source": [
    "data=pd.read_csv('sigma_R.csv',header=0,)\n",
    "data = data.dropna(how='any')#quita los valores nan del documento\n",
    "y=data.iloc[:,0]\n",
    "w=data.iloc[:,1]\n",
    "x=data.iloc[:,2]\n",
    "\n",
    "print(stats.stdev(x))\n",
    "print(data)"
   ]
  },
  {
   "cell_type": "code",
   "execution_count": 4,
   "metadata": {},
   "outputs": [
    {
     "data": {
      "text/plain": [
       "<function matplotlib.pyplot.show(close=None, block=None)>"
      ]
     },
     "execution_count": 4,
     "metadata": {},
     "output_type": "execute_result"
    },
    {
     "data": {
      "image/png": "[encoded data removed]",
      "text/plain": [
       "<Figure size 432x288 with 1 Axes>"
      ]
     },
     "metadata": {
      "needs_background": "light"
     },
     "output_type": "display_data"
    }
   ],
   "source": [
    "yerror = w\n",
    "xerror = 0.40483859217506146\n",
    "plt.plot(x,y,'ro')\n",
    "plt.errorbar(x,y,yerr=yerror, fmt = ' ' , ecolor='black')\n",
    "plt.errorbar(x,y,xerr=xerror, fmt = ' ' , ecolor='blue')\n",
    "plt.ylabel('sigma_R')\n",
    "plt.xlabel('$Hβ [log(M BH,vir /M_\\odot)]$')\n",
    "plt.title(\"Masa_virial_R\")\n",
    "#plt.xscale('log')\n",
    "#plt.yscale('log')\n",
    "plt.grid()\n",
    "plt.savefig(\"masa del virial _sigma_R_error.pdf\")\n",
    "plt.show"
   ]
  },
  {
   "cell_type": "code",
   "execution_count": 5,
   "metadata": {},
   "outputs": [
    {
     "name": "stdout",
     "output_type": "stream",
     "text": [
      "0.40483859217506146\n",
      "               A         B     C\n",
      "0   2.069541e-02  0.179094  8.92\n",
      "1   1.134060e-02  0.277104  8.96\n",
      "2   4.675283e-05  0.006660  8.79\n",
      "3   3.306489e-05  0.020402  8.12\n",
      "4   3.935957e-30  0.210971  8.81\n",
      "5   3.882826e-05  0.000768  9.04\n",
      "6   1.311238e-04  0.199589  8.43\n",
      "7   6.256137e-05  0.002016  8.36\n",
      "8   3.907244e-02  0.283571  7.68\n",
      "9   2.462273e-02  1.104232  7.89\n",
      "10  9.888093e-02  0.168145  8.58\n",
      "11  2.572900e-04  0.147434  8.44\n",
      "12  4.454450e-05  0.119743  7.98\n",
      "13  1.426441e-03  0.160933  9.04\n",
      "14  3.054146e-02  0.336713  9.39\n",
      "15  1.596887e-03  0.189112  8.36\n",
      "16  3.169736e-02  0.307179  8.62\n",
      "17  4.911671e-05  0.047464  8.07\n",
      "18  2.752984e-05  0.066628  8.53\n",
      "19  4.297130e-05  0.023350  8.26\n",
      "20  2.201417e-05  0.000748  8.36\n",
      "21  1.163590e-05  0.037032  9.17\n",
      "22  2.726653e-25  0.083650  8.54\n",
      "23  4.523898e-04  0.091226  8.36\n",
      "24  3.167977e-04  0.093084  7.74\n",
      "25  1.751401e-26  0.049322  8.18\n",
      "26  5.221035e-05  0.146278  8.32\n",
      "27  3.213755e-02  0.207380  7.84\n",
      "28  4.860647e-03  0.326680  8.67\n",
      "29  7.560224e-04  0.169526  8.37\n",
      "30  6.581084e-43  0.350991  8.28\n",
      "31  4.821968e-05  0.052662  8.48\n",
      "32  2.965978e-06  0.023677  8.20\n",
      "33  7.054865e-05  0.076119  8.39\n",
      "34  4.904767e-20  0.020352  8.14\n",
      "35  1.918376e-04  0.025534  7.99\n"
     ]
    }
   ],
   "source": [
    "data=pd.read_csv('sigma_I.csv',header=0,)\n",
    "data = data.dropna(how='any')#quita los valores nan del documento\n",
    "y=data.iloc[:,0]\n",
    "w=data.iloc[:,1]\n",
    "x=data.iloc[:,2]\n",
    "\n",
    "print(stats.stdev(x))\n",
    "print(data)"
   ]
  },
  {
   "cell_type": "code",
   "execution_count": 7,
   "metadata": {},
   "outputs": [
    {
     "data": {
      "text/plain": [
       "<function matplotlib.pyplot.show(close=None, block=None)>"
      ]
     },
     "execution_count": 7,
     "metadata": {},
     "output_type": "execute_result"
    },
    {
     "data": {
      "image/png": "[encoded data removed]",
      "text/plain": [
       "<Figure size 432x288 with 1 Axes>"
      ]
     },
     "metadata": {
      "needs_background": "light"
     },
     "output_type": "display_data"
    }
   ],
   "source": [
    "yerror = w\n",
    "xerror = 0.40483859217506146\n",
    "plt.plot(x,y,'ro')\n",
    "plt.errorbar(x,y,yerr=yerror, fmt = ' ' , ecolor='black')\n",
    "plt.errorbar(x,y,xerr=xerror, fmt = ' ' , ecolor='blue')\n",
    "plt.ylabel('sigma_I')\n",
    "plt.xlabel('$Hβ [log(M BH,vir /M_\\odot)]$')\n",
    "plt.title(\"Masa_virial_I\")\n",
    "#plt.xscale('log')\n",
    "#plt.yscale('log')\n",
    "plt.grid()\n",
    "plt.savefig(\"masa del virial _sigma_I_error.pdf\")\n",
    "plt.show"
   ]
  },
  {
   "cell_type": "code",
   "execution_count": 8,
   "metadata": {},
   "outputs": [
    {
     "name": "stdout",
     "output_type": "stream",
     "text": [
      "0.40483859217506146\n",
      "               A          B     C\n",
      "0   8.498908e-05   0.083304  8.92\n",
      "1   5.154518e-05   0.066665  8.96\n",
      "2   6.020869e-05   0.183441  8.79\n",
      "3   6.605876e-08   0.053880  8.12\n",
      "4   1.904890e-05   0.206973  8.81\n",
      "5   1.063661e-04   0.018693  9.04\n",
      "6   1.008966e-04   0.287839  8.43\n",
      "7   3.076156e-05   0.021780  8.36\n",
      "8   1.967467e-03   0.280217  7.68\n",
      "9   2.604240e-03   0.224694  7.89\n",
      "10  1.859598e-05   0.117267  8.58\n",
      "11  2.469788e-05   0.098567  8.44\n",
      "12  3.206913e-05   0.030909  7.98\n",
      "13  1.738366e-04   0.066413  9.04\n",
      "14  4.655123e-06   0.108084  9.39\n",
      "15  1.680089e-04   0.355652  8.36\n",
      "16  3.958446e-05   0.097459  8.62\n",
      "17  1.157727e-05   0.129902  8.07\n",
      "18  1.020284e-05   0.160878  8.53\n",
      "19  1.805068e-01   0.147913  8.26\n",
      "20  1.420331e-05   0.645919  8.36\n",
      "21  8.151442e-06   0.110811  9.17\n",
      "22  4.334162e-05   3.841400  8.54\n",
      "23  4.490392e-05  13.613169  8.36\n",
      "24  5.690052e-05   0.137680  7.74\n",
      "25  2.238477e-05   0.080787  8.18\n",
      "26  1.321691e-05   0.204188  8.32\n",
      "27  8.200252e-04   0.493655  7.84\n",
      "28  5.486490e-05   0.220088  8.67\n",
      "29  5.447762e-09   0.504298  8.37\n",
      "30  1.245295e-05   0.087402  8.28\n",
      "31  2.490043e-05   0.155039  8.48\n",
      "32  3.378012e-05   0.265720  8.20\n",
      "33  1.992442e-05   0.025956  8.39\n",
      "34  1.145711e-06   0.015888  8.14\n",
      "35  1.197346e-05   0.095728  7.99\n"
     ]
    }
   ],
   "source": [
    "data=pd.read_csv('sigma_Z.csv',header=0,)\n",
    "data = data.dropna(how='any')#quita los valores nan del documento\n",
    "y=data.iloc[:,0]\n",
    "w=data.iloc[:,1]\n",
    "x=data.iloc[:,2]\n",
    "\n",
    "print(stats.stdev(x))\n",
    "print(data)"
   ]
  },
  {
   "cell_type": "code",
   "execution_count": 9,
   "metadata": {},
   "outputs": [
    {
     "data": {
      "text/plain": [
       "<function matplotlib.pyplot.show(close=None, block=None)>"
      ]
     },
     "execution_count": 9,
     "metadata": {},
     "output_type": "execute_result"
    },
    {
     "data": {
      "image/png": "[encoded data removed]",
      "text/plain": [
       "<Figure size 432x288 with 1 Axes>"
      ]
     },
     "metadata": {
      "needs_background": "light"
     },
     "output_type": "display_data"
    }
   ],
   "source": [
    "yerror = w\n",
    "xerror = 0.40483859217506146\n",
    "plt.plot(x,y,'ro')\n",
    "plt.errorbar(x,y,yerr=yerror, fmt = ' ' , ecolor='black')\n",
    "plt.errorbar(x,y,xerr=xerror, fmt = ' ' , ecolor='blue')\n",
    "plt.ylabel('sigma_Z')\n",
    "plt.xlabel('$Hβ [log(M BH,vir /M_\\odot)]$')\n",
    "plt.title(\"Masa_virial_Z\")\n",
    "#plt.xscale('log')\n",
    "#plt.yscale('log')\n",
    "plt.grid()\n",
    "plt.savefig(\"masa del virial _sigma_Z_error.pdf\")\n",
    "plt.show"
   ]
  }
 ],
 "metadata": {
  "kernelspec": {
   "display_name": "Python 3",
   "language": "python",
   "name": "python3"
  },
  "language_info": {
   "codemirror_mode": {
    "name": "ipython",
    "version": 3
   },
   "file_extension": ".py",
   "mimetype": "text/x-python",
   "name": "python",
   "nbconvert_exporter": "python",
   "pygments_lexer": "ipython3",
   "version": "3.7.6"
  }
 },
 "nbformat": 4,
 "nbformat_minor": 4
}
